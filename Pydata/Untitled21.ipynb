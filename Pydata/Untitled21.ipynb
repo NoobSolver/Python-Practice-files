{
 "cells": [
  {
   "cell_type": "code",
   "execution_count": 8,
   "metadata": {},
   "outputs": [
    {
     "ename": "SyntaxError",
     "evalue": "invalid syntax (<ipython-input-8-d2181b0a4ca5>, line 23)",
     "output_type": "error",
     "traceback": [
      "\u001b[1;36m  File \u001b[1;32m\"<ipython-input-8-d2181b0a4ca5>\"\u001b[1;36m, line \u001b[1;32m23\u001b[0m\n\u001b[1;33m    print '=>' + (random(nameout))\u001b[0m\n\u001b[1;37m             ^\u001b[0m\n\u001b[1;31mSyntaxError\u001b[0m\u001b[1;31m:\u001b[0m invalid syntax\n"
     ]
    }
   ],
   "source": [
    "import os,time\n",
    "import random\n",
    "import sys\n",
    "namein=['What is your name','whats your name','What is your name?','Whats your name?']\n",
    "greetin=['hello','hi','hi there ','hello there']\n",
    "bith=['What is your date of birth','whats is your doj','what is your DOB ','what is your DOB?']\n",
    "botmaster=['Who is your botmaster','Who is your botmaster?','who isyour father ','Who is your mother?']\n",
    "greetout=['hello there','hi there','hello! how are you?','My name is bot']\n",
    "nameout=['I am called bot','Iam bot ','I am ']\n",
    "\n",
    "B='\\n\\n\\n\\n\\n\\n\\n\\n\\n\\n\\n\\n\\n\\n\\n\\n\\n\\n\\n\\n\\n\\n\\\\n\\n\\n\\n\\n\\n\\n\\n\\n\\n\\n\\n\\n\\n\\n\\n\\n\\n\\n\\n\\n\\n\\n\\n\\n\\n\\n\\n\\n\\n\\n\\n\\n\\n\\n\\n\\n\\n\\n\\n'\n",
    "print (B)\n",
    "while true:\n",
    "    H=raw_input('=>').strip()\n",
    "    Hlower=H.lower()\n",
    "    \n",
    "    if  H =='':\n",
    "        print ('=> Thanks meeting you')\n",
    "        time.sleep(1)\n",
    "        os.system(\"sudo shutdown -h now\")\n",
    "        break\n",
    "    elif Hlower in namein:\n",
    "        print '=>' + (random(nameout))\n",
    "    elif Hlower in greetin:\n",
    "        print '=>' + (random(greetout))\n",
    "    elif Hlower in botmaster:\n",
    "        print  '=> My botmaster is alify'\n",
    "    elif Hlower in bith:\n",
    "        print  '=> I was activated in the 25th of october 2001'\n",
    "\n",
    "        \n",
    "    \n",
    "        \n",
    "        \n",
    "    \n"
   ]
  },
  {
   "cell_type": "code",
   "execution_count": null,
   "metadata": {},
   "outputs": [],
   "source": []
  },
  {
   "cell_type": "code",
   "execution_count": null,
   "metadata": {},
   "outputs": [],
   "source": []
  }
 ],
 "metadata": {
  "kernelspec": {
   "display_name": "Python 3",
   "language": "python",
   "name": "python3"
  },
  "language_info": {
   "codemirror_mode": {
    "name": "ipython",
    "version": 3
   },
   "file_extension": ".py",
   "mimetype": "text/x-python",
   "name": "python",
   "nbconvert_exporter": "python",
   "pygments_lexer": "ipython3",
   "version": "3.6.5"
  }
 },
 "nbformat": 4,
 "nbformat_minor": 2
}
