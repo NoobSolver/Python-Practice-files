{
 "cells": [
  {
   "cell_type": "code",
   "execution_count": 1,
   "metadata": {},
   "outputs": [
    {
     "ename": "IndentationError",
     "evalue": "unexpected indent (<ipython-input-1-1fe23120b6b6>, line 3)",
     "output_type": "error",
     "traceback": [
      "\u001b[1;36m  File \u001b[1;32m\"<ipython-input-1-1fe23120b6b6>\"\u001b[1;36m, line \u001b[1;32m3\u001b[0m\n\u001b[1;33m    import pprint\u001b[0m\n\u001b[1;37m    ^\u001b[0m\n\u001b[1;31mIndentationError\u001b[0m\u001b[1;31m:\u001b[0m unexpected indent\n"
     ]
    }
   ],
   "source": [
    " \n",
    "\n",
    "    import pprint\n",
    "\n",
    "    def getWordPattern(word):\n",
    "\n",
    " # Returns a string of the pattern form of the given word.\n",
    "\n",
    " # e.g. '0.1.2.3.4.1.2.3.5.6' for 'DUSTBUSTER'\n",
    "\n",
    "    word = word.upper()\n",
    "    \n",
    "     nextNum = 0\n",
    "\n",
    "        letterNums = {}\n",
    "\n",
    "        wordPattern = []\n",
    "\n",
    "\n",
    "        for letter in word:\n",
    "\n",
    "            if letter not in letterNums:\n",
    "\n",
    "                letterNums[letter] = str(nextNum)\n",
    "\n",
    "                nextNum += 1\n",
    "\n",
    "            wordPattern.append(letterNums[letter])\n",
    "\n",
    "        return '.'.join(wordPattern)\n",
    "\n",
    "    def main():\n",
    "\n",
    "        allPatterns = {}\n",
    "\n",
    "\n",
    "        fo = open('dictionary.txt')\n",
    "\n",
    "        wordList = fo.read().split('\\n')\n",
    "\n",
    "        fo.close()\n",
    "\n",
    "\n",
    "\n",
    "        for word in wordList:\n",
    "\n",
    "           # Get the pattern for each string in wordList.\n",
    "\n",
    "            pattern = getWordPattern(word)\n",
    "\n",
    "\n",
    "            if pattern not in allPatterns:\n",
    "\n",
    "                allPatterns[pattern] = [word]\n",
    "\n",
    "            else:\n",
    "                allPatterns[pattern].append(word)\n",
    "\n",
    "        # This is code that writes code. The wordPatterns.py file contains\n",
    "\n",
    "        # one very, very large assignment statement.\n",
    "\n",
    "        fo = open('wordPatterns.py', 'w')\n",
    "\n",
    "        fo.write('allPatterns = ')\n",
    "\n",
    "        fo.write(pprint.pformat(allPatterns))\n",
    "\n",
    "        fo.close()\n",
    "\n",
    "    if __name__ == '__main__':\n",
    "\n",
    "        main()"
   ]
  },
  {
   "cell_type": "code",
   "execution_count": null,
   "metadata": {},
   "outputs": [],
   "source": []
  }
 ],
 "metadata": {
  "kernelspec": {
   "display_name": "Python 3",
   "language": "python",
   "name": "python3"
  },
  "language_info": {
   "codemirror_mode": {
    "name": "ipython",
    "version": 3
   },
   "file_extension": ".py",
   "mimetype": "text/x-python",
   "name": "python",
   "nbconvert_exporter": "python",
   "pygments_lexer": "ipython3",
   "version": "3.6.5"
  }
 },
 "nbformat": 4,
 "nbformat_minor": 2
}
