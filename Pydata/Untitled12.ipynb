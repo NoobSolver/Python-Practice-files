{
 "cells": [
  {
   "cell_type": "code",
   "execution_count": 1,
   "metadata": {},
   "outputs": [],
   "source": [
    "import numpy as np\n",
    "\n",
    "sample_dataset= [1,5,7,2,6,7,8,2,5,2,6,8,2,6,13]"
   ]
  },
  {
   "cell_type": "code",
   "execution_count": 2,
   "metadata": {},
   "outputs": [],
   "source": [
    "def moving_average(values,window):\n",
    "    weights = np.repeat(1.0,window)/window\n",
    "    smas = np.convolve(values,weights,'valid')#takes care of the last and the first few examples\n",
    "    return smas"
   ]
  },
  {
   "cell_type": "code",
   "execution_count": 3,
   "metadata": {},
   "outputs": [
    {
     "name": "stdout",
     "output_type": "stream",
     "text": [
      "[4.33333333 4.66666667 5.         5.         7.         5.66666667\n",
      " 5.         3.         4.33333333 5.33333333 5.33333333 5.33333333\n",
      " 7.        ]\n"
     ]
    }
   ],
   "source": [
    "print (moving_average(sample_dataset,3))"
   ]
  },
  {
   "cell_type": "code",
   "execution_count": 4,
   "metadata": {},
   "outputs": [],
   "source": [
    "#####exponential moving avg#########3333\n",
    "def exp_moving_avg(values,window):\n",
    "    weigths = np.exp(np.linspace(-1.,0.,window))\n",
    "    weigths /= weigths.sum()\n",
    "    a=np. convolve(values,weigths)[:len(values)]\n",
    "    a[:window]=a[window]\n",
    "    return a"
   ]
  },
  {
   "cell_type": "code",
   "execution_count": null,
   "metadata": {},
   "outputs": [],
   "source": []
  },
  {
   "cell_type": "code",
   "execution_count": 6,
   "metadata": {},
   "outputs": [
    {
     "name": "stdout",
     "output_type": "stream",
     "text": [
      "[5.0554206  5.0554206  5.0554206  5.0554206  5.27769685 4.16040216\n",
      " 6.67984333 6.37557727 5.59785352 2.92158766 4.26473607 4.34672588\n",
      " 5.86909688 5.78417724 5.2783445 ]\n"
     ]
    }
   ],
   "source": [
    "print (exp_moving_avg(sample_dataset,3))"
   ]
  },
  {
   "cell_type": "code",
   "execution_count": null,
   "metadata": {},
   "outputs": [],
   "source": []
  },
  {
   "cell_type": "code",
   "execution_count": 5,
   "metadata": {},
   "outputs": [
    {
     "name": "stdout",
     "output_type": "stream",
     "text": [
      "[5.0554206  5.0554206  5.0554206  5.0554206  5.27769685 4.16040216\n",
      " 6.67984333 6.37557727 5.59785352 2.92158766 4.26473607 4.34672588\n",
      " 5.86909688 5.78417724 5.2783445 ]\n"
     ]
    }
   ],
   "source": [
    "print (exp_moving_avg(sample_dataset,3))"
   ]
  },
  {
   "cell_type": "code",
   "execution_count": 8,
   "metadata": {},
   "outputs": [
    {
     "ename": "SyntaxError",
     "evalue": "invalid syntax (<ipython-input-8-1cff0f681fae>, line 1)",
     "output_type": "error",
     "traceback": [
      "\u001b[1;36m  File \u001b[1;32m\"<ipython-input-8-1cff0f681fae>\"\u001b[1;36m, line \u001b[1;32m1\u001b[0m\n\u001b[1;33m    avarage true Range\u001b[0m\n\u001b[1;37m               ^\u001b[0m\n\u001b[1;31mSyntaxError\u001b[0m\u001b[1;31m:\u001b[0m invalid syntax\n"
     ]
    }
   ],
   "source": [
    "import numpy as np\n",
    "\n",
    "sampleData = open ('smaple.txt','r').read()\n",
    "splitData = sampleData.split('\\n')\n",
    "date,closep,highp,lowp,openp,volume = np.loadtxt(splitData,delimiter=',',unpack=True)\n",
    "\n",
    "def TR(c,h,l,o,yc):\n",
    "    x = h-l\n",
    "    y = abs(h-yc)\n",
    "    z = abs(l-yc)\n",
    "    tr=max(x,y,z)\n",
    "    return tr"
   ]
  },
  {
   "cell_type": "code",
   "execution_count": null,
   "metadata": {},
   "outputs": [],
   "source": []
  }
 ],
 "metadata": {
  "kernelspec": {
   "display_name": "Python 3",
   "language": "python",
   "name": "python3"
  },
  "language_info": {
   "codemirror_mode": {
    "name": "ipython",
    "version": 3
   },
   "file_extension": ".py",
   "mimetype": "text/x-python",
   "name": "python",
   "nbconvert_exporter": "python",
   "pygments_lexer": "ipython3",
   "version": "3.6.5"
  }
 },
 "nbformat": 4,
 "nbformat_minor": 2
}
